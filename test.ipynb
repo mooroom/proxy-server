{
 "metadata": {
  "language_info": {
   "codemirror_mode": {
    "name": "ipython",
    "version": 3
   },
   "file_extension": ".py",
   "mimetype": "text/x-python",
   "name": "python",
   "nbconvert_exporter": "python",
   "pygments_lexer": "ipython3",
   "version": "3.8.3-final"
  },
  "orig_nbformat": 2,
  "kernelspec": {
   "name": "python3",
   "display_name": "Python 3",
   "language": "python"
  }
 },
 "nbformat": 4,
 "nbformat_minor": 2,
 "cells": [
  {
   "cell_type": "code",
   "execution_count": 2,
   "metadata": {},
   "outputs": [
    {
     "output_type": "stream",
     "name": "stdout",
     "text": [
      "hellle\n"
     ]
    }
   ],
   "source": [
    "request = \"hellleoooo!!!!!!\"\n",
    "first = request.split('o')[0]\n",
    "print(first)"
   ]
  },
  {
   "cell_type": "code",
   "execution_count": 13,
   "metadata": {},
   "outputs": [
    {
     "output_type": "stream",
     "name": "stdout",
     "text": [
      "www.geeksforgeeks.org/creating-a-proxy-webserver-in-python-set-1/?ref=lbp\n-1\n5\nwww.geeksforgeeks.org/creating-a-proxy-webserver-in-python-set-1/?ref=lbp\n"
     ]
    }
   ],
   "source": [
    "url = \"https://www.geeksforgeeks.org/creating-a-proxy-webserver-in-python-set-1/?ref=lbp\"\n",
    "url2 = \"https://www.geeksforgeeks.org\"\n",
    "http_pos = url.find(\"://\")\n",
    "\n",
    "if (http_pos == -1):\n",
    "    temp = url\n",
    "else:\n",
    "    temp = url[(http_pos + 3):]\n",
    "\n",
    "temp2 = url2[(http_pos + 3):]\n",
    "webserver_pos = temp2.find(\"/\")\n",
    "rest = temp[(webserver_pos + 1):]\n",
    "\n",
    "print(rest)\n",
    "print(webserver_pos)\n",
    "print(http_pos)\n",
    "print(temp)\n"
   ]
  },
  {
   "cell_type": "code",
   "execution_count": 14,
   "metadata": {},
   "outputs": [
    {
     "output_type": "stream",
     "name": "stdout",
     "text": [
      "b'GET http://www.linuxhowtos.org/ HTTP/1.1'\nb'Host: www.linuxhowtos.org'\nb'Proxy-Connection: keep-alive'\nb'Cache-Control: max-age=0'\nb'Upgrade-Insecure-Requests: 1'\nb'User-Agent: Mozilla/5.0 (Macintosh; Intel Mac OS X 11_0_1) AppleWebKit/537.36 (KHTML, like Gecko) Chrome/87.0.4280.88 Safari/537.36'\nb'Accept: text/html,application/xhtml+xml,application/xml;q=0.9,image/avif,image/webp,image/apng,*/*;q=0.8,application/signed-exchange;v=b3;q=0.9'\nb'Accept-Encoding: gzip, deflate'\nb'Accept-Language: ko-KR,ko;q=0.9,en-US;q=0.8,en;q=0.7,la;q=0.6,it;q=0.5'\nb''\nb''\n==============\nb'GET http://www.linuxhowtos.org/data/blank.gif?w=500&h=264 HTTP/1.1'\nb'Host: www.linuxhowtos.org'\nb'Proxy-Connection: keep-alive'\nb'User-Agent: Mozilla/5.0 (Macintosh; Intel Mac OS X 11_0_1) AppleWebKit/537.36 (KHTML, like Gecko) Chrome/87.0.4280.88 Safari/537.36'\nb'Accept: image/avif,image/webp,image/apng,image/*,*/*;q=0.8'\nb'Referer: http://www.linuxhowtos.org/'\nb'Accept-Encoding: gzip, deflate'\nb'Accept-Language: ko-KR,ko;q=0.9,en-US;q=0.8,en;q=0.7,la;q=0.6,it;q=0.5'\nb''\nb''\n"
     ]
    }
   ],
   "source": [
    "req = b'GET http://www.linuxhowtos.org/ HTTP/1.1\\r\\nHost: www.linuxhowtos.org\\r\\nProxy-Connection: keep-alive\\r\\nCache-Control: max-age=0\\r\\nUpgrade-Insecure-Requests: 1\\r\\nUser-Agent: Mozilla/5.0 (Macintosh; Intel Mac OS X 11_0_1) AppleWebKit/537.36 (KHTML, like Gecko) Chrome/87.0.4280.88 Safari/537.36\\r\\nAccept: text/html,application/xhtml+xml,application/xml;q=0.9,image/avif,image/webp,image/apng,*/*;q=0.8,application/signed-exchange;v=b3;q=0.9\\r\\nAccept-Encoding: gzip, deflate\\r\\nAccept-Language: ko-KR,ko;q=0.9,en-US;q=0.8,en;q=0.7,la;q=0.6,it;q=0.5\\r\\n\\r\\n'\n",
    "\n",
    "req2 = b'GET http://www.linuxhowtos.org/data/blank.gif?w=500&h=264 HTTP/1.1\\r\\nHost: www.linuxhowtos.org\\r\\nProxy-Connection: keep-alive\\r\\nUser-Agent: Mozilla/5.0 (Macintosh; Intel Mac OS X 11_0_1) AppleWebKit/537.36 (KHTML, like Gecko) Chrome/87.0.4280.88 Safari/537.36\\r\\nAccept: image/avif,image/webp,image/apng,image/*,*/*;q=0.8\\r\\nReferer: http://www.linuxhowtos.org/\\r\\nAccept-Encoding: gzip, deflate\\r\\nAccept-Language: ko-KR,ko;q=0.9,en-US;q=0.8,en;q=0.7,la;q=0.6,it;q=0.5\\r\\n\\r\\n'\n",
    "\n",
    "req_split = req.split(b'\\r\\n')\n",
    "req_join = b'\\r\\n'.join(req_split)\n",
    "for i in req_split:\n",
    "    print(i)\n",
    "\n",
    "print('==============')\n",
    "# print(req_join)\n",
    "# print(req_join == req)\n",
    "\n",
    "req2_split = req2.split(b'\\r\\n')\n",
    "\n",
    "for i in req2_split:\n",
    "    print(i)"
   ]
  },
  {
   "cell_type": "code",
   "execution_count": 61,
   "metadata": {},
   "outputs": [
    {
     "output_type": "stream",
     "name": "stdout",
     "text": [
      "============\nb'GET http://www.linuxhowtos.org/ HTTP/1.1\\r\\nHost: www.linuxhowtos.org\\r\\nProxy-Connection: keep-alive\\r\\nCache-Control: max-age=0\\r\\nUpgrade-Insecure-Requests: 1\\r\\nUser-Agent: Mozilla/5.0 (Macintosh; Intel Mac OS X 11_0_1) AppleWebKit/537.36 (KHTML, like Gecko) Chrome/87.0.4280.88 Safari/537.36\\r\\nAccept: text/html,application/xhtml+xml,application/xml;q=0.9,*/*;q=0.8,application/signed-exchange;v=b3;q=0.9\\r\\nAccept-Encoding: gzip, deflate\\r\\nAccept-Language: ko-KR,ko;q=0.9,en-US;q=0.8,en;q=0.7,la;q=0.6,it;q=0.5\\r\\n\\r\\n'\n"
     ]
    }
   ],
   "source": [
    "request = b'GET http://www.linuxhowtos.org/ HTTP/1.1\\r\\nHost: www.linuxhowtos.org\\r\\nProxy-Connection: keep-alive\\r\\nCache-Control: max-age=0\\r\\nUpgrade-Insecure-Requests: 1\\r\\nUser-Agent: Mozilla/5.0 (Macintosh; Intel Mac OS X 11_0_1) AppleWebKit/537.36 (KHTML, like Gecko) Chrome/87.0.4280.88 Safari/537.36\\r\\nAccept: text/html,application/xhtml+xml,application/xml;q=0.9,image/avif,image/webp,image/apng,*/*;q=0.8,application/signed-exchange;v=b3;q=0.9\\r\\nAccept-Encoding: gzip, deflate\\r\\nAccept-Language: ko-KR,ko;q=0.9,en-US;q=0.8,en;q=0.7,la;q=0.6,it;q=0.5\\r\\n\\r\\n'\n",
    "\n",
    "\n",
    "splited = request.split(b'\\r\\n')\n",
    "\n",
    "newop = []\n",
    "index = 0\n",
    "for i in splited:\n",
    "    try:\n",
    "        decoded = i.decode('utf-16')\n",
    "    except:\n",
    "        decoded = i.decode()\n",
    "    if('Accept: ' in decoded):\n",
    "        options = decoded.split()[1]\n",
    "        option = options.split(',')\n",
    "        \n",
    "        for e in option:\n",
    "            if not('image' in e):\n",
    "                newop.append(e)\n",
    "        break\n",
    "    index = index + 1\n",
    "\n",
    "newops = ','.join(newop)\n",
    "origin = 'Accept: ' + newops\n",
    "encode_origin = origin.encode()\n",
    "splited[index] = encode_origin\n",
    "\n",
    "\n",
    "req_no_img = b'\\r\\n'.join(splited)\n",
    "print('============')\n",
    "print(req_no_img)"
   ]
  },
  {
   "cell_type": "code",
   "execution_count": null,
   "metadata": {},
   "outputs": [],
   "source": []
  }
 ]
}
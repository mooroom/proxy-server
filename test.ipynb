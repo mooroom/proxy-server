{
 "metadata": {
  "language_info": {
   "codemirror_mode": {
    "name": "ipython",
    "version": 3
   },
   "file_extension": ".py",
   "mimetype": "text/x-python",
   "name": "python",
   "nbconvert_exporter": "python",
   "pygments_lexer": "ipython3",
   "version": "3.8.3-final"
  },
  "orig_nbformat": 2,
  "kernelspec": {
   "name": "python3",
   "display_name": "Python 3"
  }
 },
 "nbformat": 4,
 "nbformat_minor": 2,
 "cells": [
  {
   "cell_type": "code",
   "execution_count": 2,
   "metadata": {},
   "outputs": [
    {
     "output_type": "stream",
     "name": "stdout",
     "text": [
      "hellle\n"
     ]
    }
   ],
   "source": [
    "request = \"hellleoooo!!!!!!\"\n",
    "first = request.split('o')[0]\n",
    "print(first)"
   ]
  },
  {
   "cell_type": "code",
   "execution_count": 13,
   "metadata": {},
   "outputs": [
    {
     "output_type": "stream",
     "name": "stdout",
     "text": [
      "www.geeksforgeeks.org/creating-a-proxy-webserver-in-python-set-1/?ref=lbp\n-1\n5\nwww.geeksforgeeks.org/creating-a-proxy-webserver-in-python-set-1/?ref=lbp\n"
     ]
    }
   ],
   "source": [
    "url = \"https://www.geeksforgeeks.org/creating-a-proxy-webserver-in-python-set-1/?ref=lbp\"\n",
    "url2 = \"https://www.geeksforgeeks.org\"\n",
    "http_pos = url.find(\"://\")\n",
    "\n",
    "if (http_pos == -1):\n",
    "    temp = url\n",
    "else:\n",
    "    temp = url[(http_pos + 3):]\n",
    "\n",
    "temp2 = url2[(http_pos + 3):]\n",
    "webserver_pos = temp2.find(\"/\")\n",
    "rest = temp[(webserver_pos + 1):]\n",
    "\n",
    "print(rest)\n",
    "print(webserver_pos)\n",
    "print(http_pos)\n",
    "print(temp)\n"
   ]
  },
  {
   "cell_type": "code",
   "execution_count": 14,
   "metadata": {},
   "outputs": [
    {
     "output_type": "stream",
     "name": "stdout",
     "text": [
      "\u001b[\n"
     ]
    }
   ],
   "source": [
    "print(\"\\033[\")"
   ]
  },
  {
   "cell_type": "code",
   "execution_count": null,
   "metadata": {},
   "outputs": [],
   "source": []
  }
 ]
}